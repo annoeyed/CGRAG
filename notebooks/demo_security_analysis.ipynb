{
 "cells": [
  {
   "cell_type": "markdown",
   "id": "f592bb8a",
   "metadata": {},
   "source": [
    "# CGRAG Demo: Security Threat Detection with Qdrant\n",
    "\n",
    "이 노트북은 CGRAG 시스템의 주요 기능(Malware Detection, Network Anomaly Detection, Threat Intelligence Search 등) 실전 흐름을 한 눈에 보여줍니다.\n",
    "\n",
    "---\n",
    "\n",
    "## 1. Introduction\n",
    "\n",
    "**CGRAG** is an AI-powered security system leveraging Qdrant vector database and RAG pipelines for:\n",
    "- Malware similarity detection\n",
    "- Network anomaly detection\n",
    "- Cyber threat intelligence retrieval\n",
    "\n",
    "**Data Used:**\n",
    "- `sample_malware_hashes.json`: Malware metadata (name, description, hash, etc.)\n",
    "- `cve_database.json`: CVE/global vulnerability metadata\n",
    "- `network_logs.csv`: Normal (baseline) network traffic logs\n",
    "\n",
    "---\n",
    "\n",
    "## 2. Qdrant Server Connection & Environment Preparation\n",
    "\n",
    "### Prerequisites - Install required packages"
   ]
  },
  {
   "cell_type": "code",
   "execution_count": null,
   "id": "75cfc0d5",
   "metadata": {
    "vscode": {
     "languageId": "plaintext"
    }
   },
   "outputs": [],
   "source": [
    "!pip install qdrant-client sentence-transformers pandas"
   ]
  },
  {
   "cell_type": "markdown",
   "id": "4ee8f2d9",
   "metadata": {},
   "source": [
    "\n",
    "### Import modules & connect to Qdrant"
   ]
  },
  {
   "cell_type": "code",
   "execution_count": null,
   "id": "7ab82445",
   "metadata": {
    "vscode": {
     "languageId": "plaintext"
    }
   },
   "outputs": [],
   "source": [
    "from qdrant_client import QdrantClient\n",
    "from sentence_transformers import SentenceTransformer\n",
    "import pandas as pd\n",
    "import json"
   ]
  },
  {
   "cell_type": "markdown",
   "id": "87ab3161",
   "metadata": {},
   "source": [
    "### Connect to local Qdrant"
   ]
  },
  {
   "cell_type": "code",
   "execution_count": null,
   "id": "62c6616d",
   "metadata": {
    "vscode": {
     "languageId": "plaintext"
    }
   },
   "outputs": [],
   "source": [
    "qdrant = QdrantClient(\"localhost\", port=6333)\n",
    "encoder = SentenceTransformer(\"all-MiniLM-L6-v2\")"
   ]
  },
  {
   "cell_type": "markdown",
   "id": "ab994b1d",
   "metadata": {},
   "source": [
    "\n",
    "### Check if expected collections exist"
   ]
  },
  {
   "cell_type": "code",
   "execution_count": null,
   "id": "3a9f4d84",
   "metadata": {
    "vscode": {
     "languageId": "plaintext"
    }
   },
   "outputs": [],
   "source": [
    "collections = [\"malware_signatures\", \"network_patterns\", \"threat_intel\"]\n",
    "for c in collections:\n",
    "info = qdrant.get_collection(c) if qdrant.collection_exists(c) else None\n",
    "print(f\"{c}: {'Exists' if info else 'Missing'}\")"
   ]
  },
  {
   "cell_type": "markdown",
   "id": "94f6ff86",
   "metadata": {},
   "source": [
    "\n",
    "---\n",
    "\n",
    "## 3. Data Loading & Embedding Preview\n",
    "\n",
    "### Load sample data files"
   ]
  },
  {
   "cell_type": "code",
   "execution_count": null,
   "id": "11b82824",
   "metadata": {
    "vscode": {
     "languageId": "plaintext"
    }
   },
   "outputs": [],
   "source": [
    "with open(\"../data/sample_malware_hashes.json\", encoding=\"utf8\") as f:\n",
    "malware_db = json.load(f)\n",
    "\n",
    "with open(\"../data/cve_database.json\", encoding=\"utf8\") as f:\n",
    "cve_db = json.load(f)\n",
    "\n",
    "network_df = pd.read_csv(\"../data/network_logs.csv\")"
   ]
  },
  {
   "cell_type": "markdown",
   "id": "c3f83963",
   "metadata": {},
   "source": [
    "\n",
    "### Show sample rows from each data source"
   ]
  },
  {
   "cell_type": "code",
   "execution_count": null,
   "id": "8f0dfc9b",
   "metadata": {
    "vscode": {
     "languageId": "plaintext"
    }
   },
   "outputs": [],
   "source": [
    "import pandas as pd\n",
    "pd.DataFrame(malware_db).head(3)"
   ]
  },
  {
   "cell_type": "markdown",
   "id": "e166d819",
   "metadata": {},
   "source": []
  }
 ],
 "metadata": {
  "language_info": {
   "name": "python"
  }
 },
 "nbformat": 4,
 "nbformat_minor": 5
}
